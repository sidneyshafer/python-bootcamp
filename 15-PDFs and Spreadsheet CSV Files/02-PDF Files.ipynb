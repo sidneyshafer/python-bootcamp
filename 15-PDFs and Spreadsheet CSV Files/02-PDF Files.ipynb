{
 "cells": [
  {
   "cell_type": "code",
   "execution_count": 1,
   "id": "2c508bc8",
   "metadata": {},
   "outputs": [],
   "source": [
    "import PyPDF2"
   ]
  },
  {
   "cell_type": "code",
   "execution_count": 2,
   "id": "ccc32fec",
   "metadata": {},
   "outputs": [],
   "source": [
    "f = open('Working_Business_Proposal.pdf', 'rb')"
   ]
  },
  {
   "cell_type": "code",
   "execution_count": 4,
   "id": "b9b5cbfa",
   "metadata": {},
   "outputs": [],
   "source": [
    "pdf_reader = PyPDF2.PdfFileReader(f)"
   ]
  },
  {
   "cell_type": "code",
   "execution_count": 5,
   "id": "dc6e36b3",
   "metadata": {},
   "outputs": [
    {
     "data": {
      "text/plain": [
       "5"
      ]
     },
     "execution_count": 5,
     "metadata": {},
     "output_type": "execute_result"
    }
   ],
   "source": [
    "pdf_reader.numPages"
   ]
  },
  {
   "cell_type": "code",
   "execution_count": 6,
   "id": "01bbc61f",
   "metadata": {},
   "outputs": [],
   "source": [
    "page_one = pdf_reader.getPage(0)"
   ]
  },
  {
   "cell_type": "code",
   "execution_count": 7,
   "id": "7d64d094",
   "metadata": {},
   "outputs": [],
   "source": [
    "page_one_text = page_one.extractText()"
   ]
  },
  {
   "cell_type": "code",
   "execution_count": 8,
   "id": "f6c94158",
   "metadata": {},
   "outputs": [
    {
     "data": {
      "text/plain": [
       "'Business Proposal\\n \\nThe Revolution is Coming\\n \\nLeverageagileframeworkstoprovidearobustsynopsisforhighlevel \\noverviews.Iterativeapproachestocorporatestrategyfostercollaborative \\nthinking to further the overall value proposition. Organically grow the \\nholisticworldviewofdisruptiveinnovationviaworkplacediversityand \\nempowerment. \\nBring to the table win-win survival strategies to ensure proactive \\ndomination.Attheendoftheday,goingforward,anewnormalthathas \\nevolvedfromgenerationXisontherunwayheadingtowardsastreamlined \\ncloud solution. User generated content in real-time will have multiple \\ntouchpoints for offshoring. \\nCapitalizeonlowhangingfruittoidentifyaballparkvalueaddedactivityto \\nbetatest.Overridethedigitaldividewithadditionalclickthroughsfrom \\nDevOps.Nanotechnologyimmersionalongtheinformationhighwaywill \\nclose the loop on focusing solely on the bottom line. \\nPodcasting operational change management inside of workßows to \\nestablishaframework.Takingseamlesskeyperformanceindicatorsofßine \\ntomaximisethelongtail.Keepingyoureyeontheballwhileperforminga \\ndeep dive on the start-up mentality to derive convergence on cross-\\nplatform integration. \\nCollaboratively administrate empowered markets via plug-and-play \\nnetworks. Dynamically procrastinate B2C users after installed base \\nbeneÞts. Dramatically visualize customer directed convergence without \\nrevolutionary ROI. \\nEfÞciently unleash cross-media information without cross-media value. \\nQuicklymaximizetimelydeliverablesforreal-timeschemas.Dramatically \\nmaintain clicks-and-mortar solutions without functional solutions. \\nBUSINESS PROPOSAL\\n!\\n1\\n'"
      ]
     },
     "execution_count": 8,
     "metadata": {},
     "output_type": "execute_result"
    }
   ],
   "source": [
    "page_one_text"
   ]
  },
  {
   "cell_type": "code",
   "execution_count": 9,
   "id": "bc1817d1",
   "metadata": {},
   "outputs": [],
   "source": [
    "f.close()"
   ]
  },
  {
   "cell_type": "code",
   "execution_count": 10,
   "id": "e278880b",
   "metadata": {},
   "outputs": [],
   "source": [
    "f = open('Working_Business_Proposal.pdf', 'rb')\n",
    "pdf_reader = PyPDF2.PdfFileReader(f)"
   ]
  },
  {
   "cell_type": "code",
   "execution_count": 11,
   "id": "49f3bc9b",
   "metadata": {},
   "outputs": [],
   "source": [
    "first_page = pdf_reader.getPage(0)"
   ]
  },
  {
   "cell_type": "code",
   "execution_count": 12,
   "id": "3d6f7c7f",
   "metadata": {},
   "outputs": [],
   "source": [
    "pdf_writer = PyPDF2.PdfFileWriter()"
   ]
  },
  {
   "cell_type": "code",
   "execution_count": 13,
   "id": "da1d8443",
   "metadata": {},
   "outputs": [],
   "source": [
    "pdf_writer.addPage(first_page)"
   ]
  },
  {
   "cell_type": "code",
   "execution_count": 14,
   "id": "2a6978bb",
   "metadata": {},
   "outputs": [],
   "source": [
    "pdf_output = open('Some_BrandNew_Doc.pdf', 'wb')"
   ]
  },
  {
   "cell_type": "code",
   "execution_count": 15,
   "id": "874effbe",
   "metadata": {},
   "outputs": [],
   "source": [
    "pdf_writer.write(pdf_output)"
   ]
  },
  {
   "cell_type": "code",
   "execution_count": 16,
   "id": "e2a52f1a",
   "metadata": {},
   "outputs": [],
   "source": [
    "f.close()"
   ]
  },
  {
   "cell_type": "code",
   "execution_count": 17,
   "id": "a96d73a4",
   "metadata": {},
   "outputs": [],
   "source": [
    "pdf_output.close()"
   ]
  },
  {
   "cell_type": "code",
   "execution_count": 18,
   "id": "c6a455ab",
   "metadata": {},
   "outputs": [],
   "source": [
    "f = open('Working_Business_Proposal.pdf', 'rb')\n",
    "\n",
    "pdf_text = []\n",
    "\n",
    "pdf_reader = PyPDF2.PdfFileReader(f)\n",
    "\n",
    "for num in range(pdf_reader.numPages):\n",
    "    \n",
    "    page = pdf_reader.getPage(num)\n",
    "    \n",
    "    pdf_text.append(page.extractText())"
   ]
  },
  {
   "cell_type": "code",
   "execution_count": 21,
   "id": "f159b696",
   "metadata": {},
   "outputs": [
    {
     "name": "stdout",
     "output_type": "stream",
     "text": [
      "Business Proposal\n",
      " \n",
      "The Revolution is Coming\n",
      " \n",
      "Leverageagileframeworkstoprovidearobustsynopsisforhighlevel \n",
      "overviews.Iterativeapproachestocorporatestrategyfostercollaborative \n",
      "thinking to further the overall value proposition. Organically grow the \n",
      "holisticworldviewofdisruptiveinnovationviaworkplacediversityand \n",
      "empowerment. \n",
      "Bring to the table win-win survival strategies to ensure proactive \n",
      "domination.Attheendoftheday,goingforward,anewnormalthathas \n",
      "evolvedfromgenerationXisontherunwayheadingtowardsastreamlined \n",
      "cloud solution. User generated content in real-time will have multiple \n",
      "touchpoints for offshoring. \n",
      "Capitalizeonlowhangingfruittoidentifyaballparkvalueaddedactivityto \n",
      "betatest.Overridethedigitaldividewithadditionalclickthroughsfrom \n",
      "DevOps.Nanotechnologyimmersionalongtheinformationhighwaywill \n",
      "close the loop on focusing solely on the bottom line. \n",
      "Podcasting operational change management inside of workßows to \n",
      "establishaframework.Takingseamlesskeyperformanceindicatorsofßine \n",
      "tomaximisethelongtail.Keepingyoureyeontheballwhileperforminga \n",
      "deep dive on the start-up mentality to derive convergence on cross-\n",
      "platform integration. \n",
      "Collaboratively administrate empowered markets via plug-and-play \n",
      "networks. Dynamically procrastinate B2C users after installed base \n",
      "beneÞts. Dramatically visualize customer directed convergence without \n",
      "revolutionary ROI. \n",
      "EfÞciently unleash cross-media information without cross-media value. \n",
      "Quicklymaximizetimelydeliverablesforreal-timeschemas.Dramatically \n",
      "maintain clicks-and-mortar solutions without functional solutions. \n",
      "BUSINESS PROPOSAL\n",
      "!\n",
      "1\n",
      "\n"
     ]
    }
   ],
   "source": [
    "print(pdf_text[0])"
   ]
  },
  {
   "cell_type": "code",
   "execution_count": null,
   "id": "c236543c",
   "metadata": {},
   "outputs": [],
   "source": []
  }
 ],
 "metadata": {
  "kernelspec": {
   "display_name": "Python 3 (ipykernel)",
   "language": "python",
   "name": "python3"
  },
  "language_info": {
   "codemirror_mode": {
    "name": "ipython",
    "version": 3
   },
   "file_extension": ".py",
   "mimetype": "text/x-python",
   "name": "python",
   "nbconvert_exporter": "python",
   "pygments_lexer": "ipython3",
   "version": "3.9.7"
  }
 },
 "nbformat": 4,
 "nbformat_minor": 5
}
