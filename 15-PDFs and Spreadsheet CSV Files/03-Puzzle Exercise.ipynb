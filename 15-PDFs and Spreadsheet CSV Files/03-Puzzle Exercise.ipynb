{
 "cells": [
  {
   "cell_type": "code",
   "execution_count": 2,
   "id": "7cfec2ea",
   "metadata": {},
   "outputs": [],
   "source": [
    "import csv\n",
    "data = open('Exercise_Files/find_the_link.csv', encoding='utf-8')\n",
    "csv_data = csv.reader(data)"
   ]
  },
  {
   "cell_type": "code",
   "execution_count": 3,
   "id": "d78e45ea",
   "metadata": {},
   "outputs": [],
   "source": [
    "data_lines = list(csv_data)"
   ]
  },
  {
   "cell_type": "code",
   "execution_count": 5,
   "id": "f6fc6e25",
   "metadata": {},
   "outputs": [],
   "source": [
    "# data_lines"
   ]
  },
  {
   "cell_type": "code",
   "execution_count": 7,
   "id": "6c264ec1",
   "metadata": {},
   "outputs": [],
   "source": [
    "# data_lines[0]"
   ]
  },
  {
   "cell_type": "code",
   "execution_count": 9,
   "id": "c6340397",
   "metadata": {},
   "outputs": [],
   "source": [
    "link_str = ''\n",
    "\n",
    "for row_num, data in enumerate(data_lines):\n",
    "    \n",
    "    link_str += data[row_num]"
   ]
  },
  {
   "cell_type": "code",
   "execution_count": 10,
   "id": "41f6bca5",
   "metadata": {},
   "outputs": [
    {
     "data": {
      "text/plain": [
       "'https://drive.google.com/open?id=1G6SEgg018UB4_4xsAJJ5TdzrhmXipr4Q'"
      ]
     },
     "execution_count": 10,
     "metadata": {},
     "output_type": "execute_result"
    }
   ],
   "source": [
    "link_str"
   ]
  },
  {
   "cell_type": "code",
   "execution_count": 11,
   "id": "016700bd",
   "metadata": {},
   "outputs": [],
   "source": [
    "import PyPDF2"
   ]
  },
  {
   "cell_type": "code",
   "execution_count": 12,
   "id": "3136bdbd",
   "metadata": {},
   "outputs": [],
   "source": [
    "f = open('Exercise_Files/Find_the_Phone_Number.pdf', 'rb')"
   ]
  },
  {
   "cell_type": "code",
   "execution_count": 13,
   "id": "c370eb59",
   "metadata": {},
   "outputs": [],
   "source": [
    "pdf = PyPDF2.PdfFileReader(f)"
   ]
  },
  {
   "cell_type": "code",
   "execution_count": 14,
   "id": "a5cb73bd",
   "metadata": {},
   "outputs": [
    {
     "data": {
      "text/plain": [
       "17"
      ]
     },
     "execution_count": 14,
     "metadata": {},
     "output_type": "execute_result"
    }
   ],
   "source": [
    "pdf.numPages"
   ]
  },
  {
   "cell_type": "code",
   "execution_count": 15,
   "id": "3d523c3c",
   "metadata": {},
   "outputs": [],
   "source": [
    "import re"
   ]
  },
  {
   "cell_type": "code",
   "execution_count": 16,
   "id": "0d138669",
   "metadata": {},
   "outputs": [],
   "source": [
    "pattern = r'\\d{3}'"
   ]
  },
  {
   "cell_type": "code",
   "execution_count": 17,
   "id": "27836187",
   "metadata": {},
   "outputs": [],
   "source": [
    "all_text = ''\n",
    "\n",
    "for n in range(pdf.numPages):\n",
    "    \n",
    "    page = pdf.getPage(n)\n",
    "    page_text = page.extractText()\n",
    "    \n",
    "    all_text = all_text + ' ' + page_text"
   ]
  },
  {
   "cell_type": "code",
   "execution_count": 19,
   "id": "a8e085fd",
   "metadata": {},
   "outputs": [],
   "source": [
    "# all_text"
   ]
  },
  {
   "cell_type": "code",
   "execution_count": 20,
   "id": "82b6172d",
   "metadata": {},
   "outputs": [
    {
     "data": {
      "text/plain": [
       "['000', '000', '000', '505', '503', '445']"
      ]
     },
     "execution_count": 20,
     "metadata": {},
     "output_type": "execute_result"
    }
   ],
   "source": [
    "re.findall(pattern, all_text)"
   ]
  },
  {
   "cell_type": "code",
   "execution_count": 21,
   "id": "16c87de2",
   "metadata": {},
   "outputs": [
    {
     "name": "stdout",
     "output_type": "stream",
     "text": [
      "<re.Match object; span=(556, 559), match='000'>\n",
      "<re.Match object; span=(15101, 15104), match='000'>\n",
      "<re.Match object; span=(29735, 29738), match='000'>\n",
      "<re.Match object; span=(35446, 35449), match='505'>\n",
      "<re.Match object; span=(35450, 35453), match='503'>\n",
      "<re.Match object; span=(35454, 35457), match='445'>\n"
     ]
    }
   ],
   "source": [
    "for match in re.finditer(pattern, all_text):\n",
    "    print(match)"
   ]
  },
  {
   "cell_type": "code",
   "execution_count": 23,
   "id": "793a617d",
   "metadata": {},
   "outputs": [
    {
     "data": {
      "text/plain": [
       "'505.503.4455.Sohor'"
      ]
     },
     "execution_count": 23,
     "metadata": {},
     "output_type": "execute_result"
    }
   ],
   "source": [
    "all_text[35446:35454+10]"
   ]
  },
  {
   "cell_type": "code",
   "execution_count": 24,
   "id": "33d7533d",
   "metadata": {},
   "outputs": [],
   "source": [
    "new_pattern = r'\\d{3}.\\d{3}.\\d{4}'"
   ]
  },
  {
   "cell_type": "code",
   "execution_count": 26,
   "id": "fc6ee21b",
   "metadata": {},
   "outputs": [],
   "source": [
    "match = re.search(new_pattern, all_text)"
   ]
  },
  {
   "cell_type": "code",
   "execution_count": 29,
   "id": "ef4941a6",
   "metadata": {},
   "outputs": [
    {
     "data": {
      "text/plain": [
       "<re.Match object; span=(35446, 35458), match='505.503.4455'>"
      ]
     },
     "execution_count": 29,
     "metadata": {},
     "output_type": "execute_result"
    }
   ],
   "source": [
    "match"
   ]
  },
  {
   "cell_type": "code",
   "execution_count": null,
   "id": "289cd805",
   "metadata": {},
   "outputs": [],
   "source": []
  }
 ],
 "metadata": {
  "kernelspec": {
   "display_name": "Python 3 (ipykernel)",
   "language": "python",
   "name": "python3"
  },
  "language_info": {
   "codemirror_mode": {
    "name": "ipython",
    "version": 3
   },
   "file_extension": ".py",
   "mimetype": "text/x-python",
   "name": "python",
   "nbconvert_exporter": "python",
   "pygments_lexer": "ipython3",
   "version": "3.9.7"
  }
 },
 "nbformat": 4,
 "nbformat_minor": 5
}
