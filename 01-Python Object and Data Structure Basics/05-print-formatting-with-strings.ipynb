{
 "cells": [
  {
   "cell_type": "markdown",
   "id": "af824ec8",
   "metadata": {},
   "source": [
    "## Formatting with the .format() method\n",
    "\n",
    "Syntax:\n",
    "\n",
    "### 'String here {} then also {}'.format('something1','something2')"
   ]
  },
  {
   "cell_type": "code",
   "execution_count": 1,
   "id": "3ea5a591",
   "metadata": {},
   "outputs": [
    {
     "name": "stdout",
     "output_type": "stream",
     "text": [
      "This is a string INSERTED\n"
     ]
    }
   ],
   "source": [
    "print('This is a string {}'.format('INSERTED'))"
   ]
  },
  {
   "cell_type": "code",
   "execution_count": 2,
   "id": "731e9d2f",
   "metadata": {},
   "outputs": [
    {
     "name": "stdout",
     "output_type": "stream",
     "text": [
      "The fox brown quick\n"
     ]
    }
   ],
   "source": [
    "print('The {} {} {}'.format('fox','brown','quick'))"
   ]
  },
  {
   "cell_type": "code",
   "execution_count": 3,
   "id": "1492c7f7",
   "metadata": {},
   "outputs": [
    {
     "name": "stdout",
     "output_type": "stream",
     "text": [
      "The quick brown fox\n"
     ]
    }
   ],
   "source": [
    "print('The {2} {1} {0}'.format('fox','brown','quick'))"
   ]
  },
  {
   "cell_type": "code",
   "execution_count": 4,
   "id": "389395f4",
   "metadata": {},
   "outputs": [
    {
     "name": "stdout",
     "output_type": "stream",
     "text": [
      "The quick brown fox\n"
     ]
    }
   ],
   "source": [
    "print('The {q} {b} {f}'.format(f='fox',b='brown',q='quick')) # using keywords"
   ]
  },
  {
   "cell_type": "code",
   "execution_count": 5,
   "id": "716ecb4e",
   "metadata": {},
   "outputs": [
    {
     "name": "stdout",
     "output_type": "stream",
     "text": [
      "The fox fox fox\n"
     ]
    }
   ],
   "source": [
    "print('The {f} {f} {f}'.format(f='fox',b='brown',q='quick')) "
   ]
  },
  {
   "cell_type": "markdown",
   "id": "baa53105",
   "metadata": {},
   "source": [
    "### Float formatting follows \"{value:width.precision <i>f</i> }\""
   ]
  },
  {
   "cell_type": "code",
   "execution_count": 6,
   "id": "d60bb65f",
   "metadata": {},
   "outputs": [],
   "source": [
    "result = 100/77"
   ]
  },
  {
   "cell_type": "code",
   "execution_count": 7,
   "id": "b7332718",
   "metadata": {},
   "outputs": [
    {
     "data": {
      "text/plain": [
       "1.2987012987012987"
      ]
     },
     "execution_count": 7,
     "metadata": {},
     "output_type": "execute_result"
    }
   ],
   "source": [
    "result"
   ]
  },
  {
   "cell_type": "code",
   "execution_count": 8,
   "id": "96683490",
   "metadata": {},
   "outputs": [
    {
     "name": "stdout",
     "output_type": "stream",
     "text": [
      "The result was 1.2987012987012987\n"
     ]
    }
   ],
   "source": [
    "print(\"The result was {}\".format(result))"
   ]
  },
  {
   "cell_type": "code",
   "execution_count": 10,
   "id": "95ffdad3",
   "metadata": {},
   "outputs": [
    {
     "name": "stdout",
     "output_type": "stream",
     "text": [
      "The result was 1.2987012987012987\n"
     ]
    }
   ],
   "source": [
    "print(\"The result was {r}\".format(r=result))"
   ]
  },
  {
   "cell_type": "code",
   "execution_count": 11,
   "id": "ea5925e5",
   "metadata": {},
   "outputs": [
    {
     "name": "stdout",
     "output_type": "stream",
     "text": [
      "The result was 1.299\n"
     ]
    }
   ],
   "source": [
    "print(\"The result was {r:1.3f}\".format(r=result))"
   ]
  },
  {
   "cell_type": "code",
   "execution_count": 12,
   "id": "926d735e",
   "metadata": {},
   "outputs": [
    {
     "name": "stdout",
     "output_type": "stream",
     "text": [
      "The result was      1.299\n"
     ]
    }
   ],
   "source": [
    "print(\"The result was {r:10.3f}\".format(r=result))"
   ]
  },
  {
   "cell_type": "code",
   "execution_count": 13,
   "id": "9e05e37c",
   "metadata": {},
   "outputs": [
    {
     "name": "stdout",
     "output_type": "stream",
     "text": [
      "The result was 1.30\n"
     ]
    }
   ],
   "source": [
    "print(\"The result was {r:1.2f}\".format(r=result))"
   ]
  },
  {
   "cell_type": "code",
   "execution_count": 14,
   "id": "d3cb3210",
   "metadata": {},
   "outputs": [],
   "source": [
    "result = 100.34567"
   ]
  },
  {
   "cell_type": "code",
   "execution_count": 15,
   "id": "87b2eb38",
   "metadata": {},
   "outputs": [
    {
     "name": "stdout",
     "output_type": "stream",
     "text": [
      "The result is 100.3457\n"
     ]
    }
   ],
   "source": [
    "print(\"The result is {r:3.4f}\".format(r=result))"
   ]
  },
  {
   "cell_type": "code",
   "execution_count": 17,
   "id": "d3661849",
   "metadata": {},
   "outputs": [
    {
     "name": "stdout",
     "output_type": "stream",
     "text": [
      "The result is 100.3457\n"
     ]
    }
   ],
   "source": [
    "print(\"The result is {r:1.4f}\".format(r=result))"
   ]
  },
  {
   "cell_type": "markdown",
   "id": "75aa09a5",
   "metadata": {},
   "source": [
    "### f-strings"
   ]
  },
  {
   "cell_type": "code",
   "execution_count": 18,
   "id": "916384af",
   "metadata": {},
   "outputs": [],
   "source": [
    "name = \"Sidney\""
   ]
  },
  {
   "cell_type": "code",
   "execution_count": 19,
   "id": "363b46c5",
   "metadata": {},
   "outputs": [
    {
     "name": "stdout",
     "output_type": "stream",
     "text": [
      "Hello, her name is Sidney\n"
     ]
    }
   ],
   "source": [
    "print('Hello, her name is {}'.format(name)) # with .format()"
   ]
  },
  {
   "cell_type": "code",
   "execution_count": 20,
   "id": "7bb0d71f",
   "metadata": {},
   "outputs": [
    {
     "name": "stdout",
     "output_type": "stream",
     "text": [
      "Hello, her name is Sidney\n"
     ]
    }
   ],
   "source": [
    "print(f'Hello, her name is {name}') # with f-string"
   ]
  },
  {
   "cell_type": "code",
   "execution_count": 22,
   "id": "565f9765",
   "metadata": {},
   "outputs": [],
   "source": [
    "name = 'Allie'\n",
    "age = '17'"
   ]
  },
  {
   "cell_type": "code",
   "execution_count": 23,
   "id": "16f8b569",
   "metadata": {},
   "outputs": [
    {
     "name": "stdout",
     "output_type": "stream",
     "text": [
      "Allie is 17 year old.\n"
     ]
    }
   ],
   "source": [
    "print(f\"{name} is {age} year old.\")"
   ]
  },
  {
   "cell_type": "markdown",
   "id": "5469a6cf",
   "metadata": {},
   "source": [
    "### Print Formatting Resources\n",
    "\n",
    "pyformat: https://pyformat.info/\n",
    "\n",
    "Format String Syntax: https://docs.python.org/3/library/string.html#formatstrings\n",
    "\n",
    "Github: https://github.com/Pierian-Data/Complete-Python-3-Bootcamp/blob/83a961a6dcbfb454845c362712c18c78d1556ab3/00-Python%20Object%20and%20Data%20Structure%20Basics/03-Print%20Formatting%20with%20Strings.ipynb."
   ]
  },
  {
   "cell_type": "code",
   "execution_count": 24,
   "id": "f4b73a4b",
   "metadata": {},
   "outputs": [
    {
     "name": "stdout",
     "output_type": "stream",
     "text": [
      "Python rules!\n"
     ]
    }
   ],
   "source": [
    "text = print('{p} {r}'.format(p='Python',r='rules!')) # Exercise"
   ]
  },
  {
   "cell_type": "code",
   "execution_count": null,
   "id": "67eb9b0f",
   "metadata": {},
   "outputs": [],
   "source": []
  }
 ],
 "metadata": {
  "kernelspec": {
   "display_name": "Python 3 (ipykernel)",
   "language": "python",
   "name": "python3"
  },
  "language_info": {
   "codemirror_mode": {
    "name": "ipython",
    "version": 3
   },
   "file_extension": ".py",
   "mimetype": "text/x-python",
   "name": "python",
   "nbconvert_exporter": "python",
   "pygments_lexer": "ipython3",
   "version": "3.9.7"
  }
 },
 "nbformat": 4,
 "nbformat_minor": 5
}
