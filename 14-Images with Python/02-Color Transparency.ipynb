{
 "cells": [
  {
   "cell_type": "code",
   "execution_count": 1,
   "id": "4961daf3",
   "metadata": {},
   "outputs": [],
   "source": [
    "from PIL import Image"
   ]
  },
  {
   "cell_type": "code",
   "execution_count": 2,
   "id": "ddb94612",
   "metadata": {},
   "outputs": [],
   "source": [
    "red = Image.open('red_color.jpg')"
   ]
  },
  {
   "cell_type": "code",
   "execution_count": 3,
   "id": "2d3c14f8",
   "metadata": {},
   "outputs": [
    {
     "data": {
      "image/png": "[encoded data removed]",
      "text/plain": [
       "<PIL.JpegImagePlugin.JpegImageFile image mode=RGB size=200x200 at 0x2791E4E5250>"
      ]
     },
     "execution_count": 3,
     "metadata": {},
     "output_type": "execute_result"
    }
   ],
   "source": [
    "red"
   ]
  },
  {
   "cell_type": "code",
   "execution_count": 4,
   "id": "40f30277",
   "metadata": {},
   "outputs": [],
   "source": [
    "blue = Image.open('blue_color.png')"
   ]
  },
  {
   "cell_type": "code",
   "execution_count": 5,
   "id": "2861831c",
   "metadata": {},
   "outputs": [
    {
     "data": {
      "image/png": "[encoded data removed]",
      "text/plain": [
       "<PIL.PngImagePlugin.PngImageFile image mode=P size=200x200 at 0x2791E4E5910>"
      ]
     },
     "execution_count": 5,
     "metadata": {},
     "output_type": "execute_result"
    }
   ],
   "source": [
    "blue"
   ]
  },
  {
   "cell_type": "code",
   "execution_count": 10,
   "id": "e469f01e",
   "metadata": {},
   "outputs": [],
   "source": [
    "red.putalpha(100)"
   ]
  },
  {
   "cell_type": "code",
   "execution_count": 11,
   "id": "d1fc1ab2",
   "metadata": {},
   "outputs": [
    {
     "data": {
      "image/png": "[encoded data removed]",
      "text/plain": [
       "<PIL.JpegImagePlugin.JpegImageFile image mode=RGBA size=200x200 at 0x2791E4E5250>"
      ]
     },
     "execution_count": 11,
     "metadata": {},
     "output_type": "execute_result"
    }
   ],
   "source": [
    "red"
   ]
  },
  {
   "cell_type": "code",
   "execution_count": 14,
   "id": "b6fc2fe9",
   "metadata": {},
   "outputs": [],
   "source": [
    "# blue.paste(im=red,box=(0,0),mask=red)"
   ]
  },
  {
   "cell_type": "code",
   "execution_count": 17,
   "id": "be3ba32c",
   "metadata": {},
   "outputs": [],
   "source": [
    "red.save(\"new_red.png\")"
   ]
  },
  {
   "cell_type": "code",
   "execution_count": 18,
   "id": "a7ba0b88",
   "metadata": {},
   "outputs": [],
   "source": [
    "new_red = Image.open(\"new_red.png\")"
   ]
  },
  {
   "cell_type": "code",
   "execution_count": 19,
   "id": "7ce06be7",
   "metadata": {},
   "outputs": [
    {
     "data": {
      "image/png": "[encoded data removed]",
      "text/plain": [
       "<PIL.PngImagePlugin.PngImageFile image mode=RGBA size=200x200 at 0x2791E4E50D0>"
      ]
     },
     "execution_count": 19,
     "metadata": {},
     "output_type": "execute_result"
    }
   ],
   "source": [
    "new_red"
   ]
  },
  {
   "cell_type": "code",
   "execution_count": null,
   "id": "dfe1cce1",
   "metadata": {},
   "outputs": [],
   "source": []
  }
 ],
 "metadata": {
  "kernelspec": {
   "display_name": "Python 3 (ipykernel)",
   "language": "python",
   "name": "python3"
  },
  "language_info": {
   "codemirror_mode": {
    "name": "ipython",
    "version": 3
   },
   "file_extension": ".py",
   "mimetype": "text/x-python",
   "name": "python",
   "nbconvert_exporter": "python",
   "pygments_lexer": "ipython3",
   "version": "3.9.7"
  }
 },
 "nbformat": 4,
 "nbformat_minor": 5
}
