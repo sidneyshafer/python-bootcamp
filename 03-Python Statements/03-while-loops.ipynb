{
 "cells": [
  {
   "cell_type": "code",
   "execution_count": 4,
   "id": "9bca4ceb",
   "metadata": {},
   "outputs": [
    {
     "name": "stdout",
     "output_type": "stream",
     "text": [
      "The current value of x is 0\n",
      "The current value of x is 1\n",
      "The current value of x is 2\n",
      "The current value of x is 3\n",
      "The current value of x is 4\n",
      "X IS NOT LESS THAN 5\n"
     ]
    }
   ],
   "source": [
    "x = 0\n",
    "\n",
    "while x < 5:\n",
    "    print(f'The current value of x is {x}')\n",
    "    x += 1 # x = x + 1\n",
    "else:\n",
    "    print('X IS NOT LESS THAN 5')"
   ]
  },
  {
   "cell_type": "markdown",
   "id": "fb7595e2",
   "metadata": {},
   "source": [
    "### break, continue, pass\n",
    "break: Breaks out of the current closest enclosing loop.\n",
    "\n",
    "continue: Goes to the top of the closest enclosing loop.\n",
    "\n",
    "pass: Does nothing at all."
   ]
  },
  {
   "cell_type": "code",
   "execution_count": 6,
   "id": "db4ce218",
   "metadata": {},
   "outputs": [
    {
     "name": "stdout",
     "output_type": "stream",
     "text": [
      "End of script\n"
     ]
    }
   ],
   "source": [
    "x = [1,2,3]\n",
    "\n",
    "for item in x:\n",
    "    pass # placeholder to avoid syntaxError\n",
    "\n",
    "print('End of script')"
   ]
  },
  {
   "cell_type": "code",
   "execution_count": 7,
   "id": "0b696cc3",
   "metadata": {},
   "outputs": [],
   "source": [
    "mystring = 'Sidney'"
   ]
  },
  {
   "cell_type": "code",
   "execution_count": 9,
   "id": "36a54900",
   "metadata": {},
   "outputs": [
    {
     "name": "stdout",
     "output_type": "stream",
     "text": [
      "S\n",
      "d\n",
      "n\n",
      "e\n",
      "y\n"
     ]
    }
   ],
   "source": [
    "for letter in mystring:\n",
    "    if letter == 'i':\n",
    "        continue\n",
    "    print(letter)"
   ]
  },
  {
   "cell_type": "code",
   "execution_count": 10,
   "id": "92afa9d1",
   "metadata": {},
   "outputs": [
    {
     "name": "stdout",
     "output_type": "stream",
     "text": [
      "S\n"
     ]
    }
   ],
   "source": [
    "for letter in mystring:\n",
    "    if letter == 'i':\n",
    "        break\n",
    "    print(letter)"
   ]
  },
  {
   "cell_type": "code",
   "execution_count": null,
   "id": "0c537807",
   "metadata": {},
   "outputs": [],
   "source": [
    "# x = 0\n",
    "\n",
    "# while x < 5:\n",
    "    \n",
    "    # if x == 2:\n",
    "       # break\n",
    "    \n",
    "   # print(x)\n",
    "   # x += 1"
   ]
  },
  {
   "cell_type": "code",
   "execution_count": null,
   "id": "71cc6fa7",
   "metadata": {},
   "outputs": [],
   "source": []
  }
 ],
 "metadata": {
  "kernelspec": {
   "display_name": "Python 3 (ipykernel)",
   "language": "python",
   "name": "python3"
  },
  "language_info": {
   "codemirror_mode": {
    "name": "ipython",
    "version": 3
   },
   "file_extension": ".py",
   "mimetype": "text/x-python",
   "name": "python",
   "nbconvert_exporter": "python",
   "pygments_lexer": "ipython3",
   "version": "3.9.7"
  }
 },
 "nbformat": 4,
 "nbformat_minor": 5
}
