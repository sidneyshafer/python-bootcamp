{
 "cells": [
  {
   "cell_type": "code",
   "execution_count": 1,
   "id": "3ae44936",
   "metadata": {},
   "outputs": [
    {
     "name": "stdout",
     "output_type": "stream",
     "text": [
      "hello world\n"
     ]
    }
   ],
   "source": [
    "print('hello world') # Shift + Enter to run cell"
   ]
  },
  {
   "cell_type": "markdown",
   "id": "0a5db4b3",
   "metadata": {},
   "source": [
    "This cell has normal text # Markdown"
   ]
  },
  {
   "cell_type": "code",
   "execution_count": null,
   "id": "51b4e94f",
   "metadata": {},
   "outputs": [],
   "source": []
  }
 ],
 "metadata": {
  "kernelspec": {
   "display_name": "Python 3 (ipykernel)",
   "language": "python",
   "name": "python3"
  },
  "language_info": {
   "codemirror_mode": {
    "name": "ipython",
    "version": 3
   },
   "file_extension": ".py",
   "mimetype": "text/x-python",
   "name": "python",
   "nbconvert_exporter": "python",
   "pygments_lexer": "ipython3",
   "version": "3.9.7"
  }
 },
 "nbformat": 4,
 "nbformat_minor": 5
}
