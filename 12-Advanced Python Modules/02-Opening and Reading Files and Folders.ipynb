{
 "cells": [
  {
   "cell_type": "code",
   "execution_count": 1,
   "id": "ffc2a61c",
   "metadata": {},
   "outputs": [
    {
     "data": {
      "text/plain": [
       "'C:\\\\Users\\\\shafe\\\\Documents\\\\Python Code\\\\12-Advanced Python Modules'"
      ]
     },
     "execution_count": 1,
     "metadata": {},
     "output_type": "execute_result"
    }
   ],
   "source": [
    "pwd"
   ]
  },
  {
   "cell_type": "code",
   "execution_count": 2,
   "id": "c9f43adc",
   "metadata": {},
   "outputs": [],
   "source": [
    "f = open('practice.txt', 'w+')\n",
    "f.write('This is a test string')\n",
    "f.close()"
   ]
  },
  {
   "cell_type": "code",
   "execution_count": 3,
   "id": "dcea38de",
   "metadata": {},
   "outputs": [],
   "source": [
    "import os"
   ]
  },
  {
   "cell_type": "code",
   "execution_count": 4,
   "id": "4a35a510",
   "metadata": {},
   "outputs": [
    {
     "data": {
      "text/plain": [
       "'C:\\\\Users\\\\shafe\\\\Documents\\\\Python Code\\\\12-Advanced Python Modules'"
      ]
     },
     "execution_count": 4,
     "metadata": {},
     "output_type": "execute_result"
    }
   ],
   "source": [
    "os.getcwd()"
   ]
  },
  {
   "cell_type": "code",
   "execution_count": 5,
   "id": "8e698fd8",
   "metadata": {},
   "outputs": [
    {
     "data": {
      "text/plain": [
       "['.ipynb_checkpoints',\n",
       " '01-Collections Module.ipynb',\n",
       " '02-Opening and Reading Files and Folders.ipynb',\n",
       " 'practice.txt']"
      ]
     },
     "execution_count": 5,
     "metadata": {},
     "output_type": "execute_result"
    }
   ],
   "source": [
    "os.listdir()"
   ]
  },
  {
   "cell_type": "code",
   "execution_count": 6,
   "id": "c78984e4",
   "metadata": {},
   "outputs": [
    {
     "data": {
      "text/plain": [
       "['All Users', 'Default', 'Default User', 'desktop.ini', 'Public', 'shafe']"
      ]
     },
     "execution_count": 6,
     "metadata": {},
     "output_type": "execute_result"
    }
   ],
   "source": [
    "os.listdir('C:\\\\Users')"
   ]
  },
  {
   "cell_type": "code",
   "execution_count": 7,
   "id": "4de42e00",
   "metadata": {},
   "outputs": [],
   "source": [
    "import shutil"
   ]
  },
  {
   "cell_type": "code",
   "execution_count": 8,
   "id": "fb0ba744",
   "metadata": {},
   "outputs": [
    {
     "data": {
      "text/plain": [
       "'C:\\\\Users\\\\shafe\\\\Documents\\\\practice.txt'"
      ]
     },
     "execution_count": 8,
     "metadata": {},
     "output_type": "execute_result"
    }
   ],
   "source": [
    "shutil.move('practice.txt','C:\\\\Users\\\\shafe\\\\Documents')"
   ]
  },
  {
   "cell_type": "code",
   "execution_count": 9,
   "id": "4a707fe3",
   "metadata": {},
   "outputs": [
    {
     "data": {
      "text/plain": [
       "['.ipynb_checkpoints',\n",
       " 'Custom Office Templates',\n",
       " 'desktop.ini',\n",
       " 'My Music',\n",
       " 'My Pictures',\n",
       " 'My Videos',\n",
       " 'New document after OneDrive is installed.docx',\n",
       " 'practice.txt',\n",
       " 'Python Code']"
      ]
     },
     "execution_count": 9,
     "metadata": {},
     "output_type": "execute_result"
    }
   ],
   "source": [
    "os.listdir('C:\\\\Users\\\\shafe\\\\Documents')"
   ]
  },
  {
   "cell_type": "code",
   "execution_count": 10,
   "id": "7e3717ff",
   "metadata": {},
   "outputs": [],
   "source": [
    "import send2trash"
   ]
  },
  {
   "cell_type": "code",
   "execution_count": 11,
   "id": "05c5ba60",
   "metadata": {},
   "outputs": [
    {
     "data": {
      "text/plain": [
       "['.ipynb_checkpoints',\n",
       " '01-Collections Module.ipynb',\n",
       " '02-Opening and Reading Files and Folders.ipynb']"
      ]
     },
     "execution_count": 11,
     "metadata": {},
     "output_type": "execute_result"
    }
   ],
   "source": [
    "os.listdir()"
   ]
  },
  {
   "cell_type": "code",
   "execution_count": 12,
   "id": "65e33b10",
   "metadata": {},
   "outputs": [
    {
     "data": {
      "text/plain": [
       "'C:\\\\Users\\\\shafe\\\\Documents\\\\Python Code\\\\12-Advanced Python Modules\\\\practice.txt'"
      ]
     },
     "execution_count": 12,
     "metadata": {},
     "output_type": "execute_result"
    }
   ],
   "source": [
    "shutil.move('C:\\\\Users\\\\shafe\\\\Documents\\\\practice.txt',os.getcwd())"
   ]
  },
  {
   "cell_type": "code",
   "execution_count": 13,
   "id": "33d2a4af",
   "metadata": {},
   "outputs": [
    {
     "data": {
      "text/plain": [
       "['.ipynb_checkpoints',\n",
       " '01-Collections Module.ipynb',\n",
       " '02-Opening and Reading Files and Folders.ipynb',\n",
       " 'practice.txt']"
      ]
     },
     "execution_count": 13,
     "metadata": {},
     "output_type": "execute_result"
    }
   ],
   "source": [
    "os.listdir()"
   ]
  },
  {
   "cell_type": "code",
   "execution_count": 14,
   "id": "9f080f87",
   "metadata": {},
   "outputs": [],
   "source": [
    "send2trash.send2trash('practice.txt')"
   ]
  },
  {
   "cell_type": "code",
   "execution_count": 15,
   "id": "2a13f9d0",
   "metadata": {},
   "outputs": [
    {
     "data": {
      "text/plain": [
       "['.ipynb_checkpoints',\n",
       " '01-Collections Module.ipynb',\n",
       " '02-Opening and Reading Files and Folders.ipynb']"
      ]
     },
     "execution_count": 15,
     "metadata": {},
     "output_type": "execute_result"
    }
   ],
   "source": [
    "os.listdir()"
   ]
  },
  {
   "cell_type": "code",
   "execution_count": 16,
   "id": "54aa1994",
   "metadata": {},
   "outputs": [],
   "source": [
    "file_path = 'C:\\\\Users\\\\shafe\\\\Documents\\\\Python Code\\\\12-Advanced Python Modules\\\\Example_Top_Level'"
   ]
  },
  {
   "cell_type": "code",
   "execution_count": 17,
   "id": "636270c4",
   "metadata": {},
   "outputs": [
    {
     "name": "stdout",
     "output_type": "stream",
     "text": [
      "Currently looking at C:\\Users\\shafe\\Documents\\Python Code\\12-Advanced Python Modules\\Example_Top_Level\n",
      "\n",
      "\n",
      "The subfolders are: \n",
      "\t Subfolder: .ipynb_checkpoints\n",
      "\t Subfolder: Mid-Example-One\n",
      "\n",
      "\n",
      "The files are: \n",
      "\t File: Mid-Example.txt\n",
      "\n",
      "\n",
      "Currently looking at C:\\Users\\shafe\\Documents\\Python Code\\12-Advanced Python Modules\\Example_Top_Level\\.ipynb_checkpoints\n",
      "\n",
      "\n",
      "The subfolders are: \n",
      "\n",
      "\n",
      "The files are: \n",
      "\n",
      "\n",
      "Currently looking at C:\\Users\\shafe\\Documents\\Python Code\\12-Advanced Python Modules\\Example_Top_Level\\Mid-Example-One\n",
      "\n",
      "\n",
      "The subfolders are: \n",
      "\t Subfolder: .ipynb_checkpoints\n",
      "\t Subfolder: Bottom-Level-One\n",
      "\t Subfolder: Bottom-Level-Two\n",
      "\n",
      "\n",
      "The files are: \n",
      "\t File: Mid-Level-Doc.txt\n",
      "\n",
      "\n",
      "Currently looking at C:\\Users\\shafe\\Documents\\Python Code\\12-Advanced Python Modules\\Example_Top_Level\\Mid-Example-One\\.ipynb_checkpoints\n",
      "\n",
      "\n",
      "The subfolders are: \n",
      "\n",
      "\n",
      "The files are: \n",
      "\n",
      "\n",
      "Currently looking at C:\\Users\\shafe\\Documents\\Python Code\\12-Advanced Python Modules\\Example_Top_Level\\Mid-Example-One\\Bottom-Level-One\n",
      "\n",
      "\n",
      "The subfolders are: \n",
      "\t Subfolder: .ipynb_checkpoints\n",
      "\n",
      "\n",
      "The files are: \n",
      "\t File: One_Text.txt\n",
      "\n",
      "\n",
      "Currently looking at C:\\Users\\shafe\\Documents\\Python Code\\12-Advanced Python Modules\\Example_Top_Level\\Mid-Example-One\\Bottom-Level-One\\.ipynb_checkpoints\n",
      "\n",
      "\n",
      "The subfolders are: \n",
      "\n",
      "\n",
      "The files are: \n",
      "\n",
      "\n",
      "Currently looking at C:\\Users\\shafe\\Documents\\Python Code\\12-Advanced Python Modules\\Example_Top_Level\\Mid-Example-One\\Bottom-Level-Two\n",
      "\n",
      "\n",
      "The subfolders are: \n",
      "\t Subfolder: .ipynb_checkpoints\n",
      "\n",
      "\n",
      "The files are: \n",
      "\t File: Bottom-Text-Two.txt\n",
      "\n",
      "\n",
      "Currently looking at C:\\Users\\shafe\\Documents\\Python Code\\12-Advanced Python Modules\\Example_Top_Level\\Mid-Example-One\\Bottom-Level-Two\\.ipynb_checkpoints\n",
      "\n",
      "\n",
      "The subfolders are: \n",
      "\n",
      "\n",
      "The files are: \n",
      "\n",
      "\n"
     ]
    }
   ],
   "source": [
    "for folder, sub_folders, files in os.walk(file_path):\n",
    "    \n",
    "    print(f\"Currently looking at {folder}\")\n",
    "    print(\"\\n\")\n",
    "    print(\"The subfolders are: \")\n",
    "    for sub_fold in sub_folders:\n",
    "        print(f\"\\t Subfolder: {sub_fold}\")\n",
    "    \n",
    "    print(\"\\n\")\n",
    "    print(\"The files are: \")\n",
    "    for f in files:\n",
    "        print(f\"\\t File: {f}\")\n",
    "    print(\"\\n\")"
   ]
  },
  {
   "cell_type": "code",
   "execution_count": null,
   "id": "709a4a04",
   "metadata": {},
   "outputs": [],
   "source": []
  }
 ],
 "metadata": {
  "kernelspec": {
   "display_name": "Python 3 (ipykernel)",
   "language": "python",
   "name": "python3"
  },
  "language_info": {
   "codemirror_mode": {
    "name": "ipython",
    "version": 3
   },
   "file_extension": ".py",
   "mimetype": "text/x-python",
   "name": "python",
   "nbconvert_exporter": "python",
   "pygments_lexer": "ipython3",
   "version": "3.9.7"
  }
 },
 "nbformat": 4,
 "nbformat_minor": 5
}
