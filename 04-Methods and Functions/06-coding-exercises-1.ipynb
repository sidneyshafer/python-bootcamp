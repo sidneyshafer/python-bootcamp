{
 "cells": [
  {
   "cell_type": "code",
   "execution_count": 7,
   "id": "f6d3e1ea",
   "metadata": {},
   "outputs": [],
   "source": [
    "# Exercise 1: Print 'Hello World'\n",
    "def myfunc():\n",
    "    print('Hello World')"
   ]
  },
  {
   "cell_type": "code",
   "execution_count": 8,
   "id": "a22c2fd5",
   "metadata": {},
   "outputs": [],
   "source": [
    "# Exercise 2: Print Hello Name\n",
    "def myfunc(name):\n",
    "    print('Hello {}'.format(name))"
   ]
  },
  {
   "cell_type": "code",
   "execution_count": 9,
   "id": "a7011c53",
   "metadata": {},
   "outputs": [],
   "source": [
    "# Exercise 3: Simple Boolean\n",
    "def myfunc(a):\n",
    "    if a == True:\n",
    "        return 'Hello'\n",
    "    elif a == False:\n",
    "        return 'Goodbye'"
   ]
  },
  {
   "cell_type": "code",
   "execution_count": 10,
   "id": "968ec7a6",
   "metadata": {},
   "outputs": [],
   "source": [
    "# Exercise 4: Using Booleans\n",
    "def myfunc(x,y,z):\n",
    "    if z == True:\n",
    "        return x\n",
    "    else:\n",
    "        return y"
   ]
  },
  {
   "cell_type": "code",
   "execution_count": 11,
   "id": "3e1d7797",
   "metadata": {},
   "outputs": [],
   "source": [
    "# Exercise 5: Simple Math\n",
    "def myfunc(a,b):\n",
    "    return a+b"
   ]
  },
  {
   "cell_type": "code",
   "execution_count": 12,
   "id": "c0bfcee2",
   "metadata": {},
   "outputs": [],
   "source": [
    "# Exercise 6: Is Even\n",
    "def is_even(n):\n",
    "    if n%2 == 0:\n",
    "        return True\n",
    "    else:\n",
    "        return False"
   ]
  },
  {
   "cell_type": "code",
   "execution_count": 13,
   "id": "9eb3f497",
   "metadata": {},
   "outputs": [],
   "source": [
    "# Exercise 7: Is Greater\n",
    "def is_greater(a,b):\n",
    "    if a > b:\n",
    "        return True\n",
    "    else:\n",
    "        return False"
   ]
  },
  {
   "cell_type": "code",
   "execution_count": 14,
   "id": "f4e2a0ae",
   "metadata": {},
   "outputs": [],
   "source": [
    "# Exercise 8: *args\n",
    "def myfunc(*args):\n",
    "    return sum(args)"
   ]
  },
  {
   "cell_type": "code",
   "execution_count": 15,
   "id": "2b0969a7",
   "metadata": {},
   "outputs": [],
   "source": [
    "# Exercise 9: Pick Evens\n",
    "def myfunc(*args):\n",
    "    \n",
    "    even_numbers = []\n",
    "    \n",
    "    for num in args:\n",
    "        if num%2 == 0:\n",
    "            even_numbers.append(num)\n",
    "        else:\n",
    "            pass\n",
    "    \n",
    "    return even_numbers"
   ]
  },
  {
   "cell_type": "code",
   "execution_count": 16,
   "id": "5c4c23d1",
   "metadata": {},
   "outputs": [],
   "source": [
    "# Exercise 10: Skyline\n",
    "def myfunc(x):\n",
    "    out = []\n",
    "    for i in range(len(x)):\n",
    "        if i%2==0:\n",
    "            out.append(x[i].lower())\n",
    "        else:\n",
    "            out.append(x[i].upper())\n",
    "    return ''.join(out)"
   ]
  },
  {
   "cell_type": "code",
   "execution_count": null,
   "id": "08d2d783",
   "metadata": {},
   "outputs": [],
   "source": []
  }
 ],
 "metadata": {
  "kernelspec": {
   "display_name": "Python 3 (ipykernel)",
   "language": "python",
   "name": "python3"
  },
  "language_info": {
   "codemirror_mode": {
    "name": "ipython",
    "version": 3
   },
   "file_extension": ".py",
   "mimetype": "text/x-python",
   "name": "python",
   "nbconvert_exporter": "python",
   "pygments_lexer": "ipython3",
   "version": "3.9.7"
  }
 },
 "nbformat": 4,
 "nbformat_minor": 5
}
